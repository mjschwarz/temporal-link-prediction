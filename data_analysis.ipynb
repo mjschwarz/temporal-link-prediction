{
 "cells": [
  {
   "cell_type": "markdown",
   "metadata": {},
   "source": [
    "# Data Analysis of Dataset A"
   ]
  },
  {
   "cell_type": "code",
   "execution_count": 9,
   "metadata": {},
   "outputs": [],
   "source": [
    "from dgl.data.utils import load_graphs\n",
    "\n",
    "dataset_A_glist, dataset_A_label_dict = load_graphs('./DGLgraphs/Dataset_A.bin')"
   ]
  },
  {
   "cell_type": "code",
   "execution_count": 14,
   "metadata": {},
   "outputs": [
    {
     "name": "stdout",
     "output_type": "stream",
     "text": [
      "[Graph(num_nodes={'Node': 69984},\n",
      "      num_edges={('Node', '0', 'Node'): 8187, ('Node', '1', 'Node'): 6199, ('Node', '10', 'Node'): 1013, ('Node', '100', 'Node'): 164, ('Node', '101', 'Node'): 31271, ('Node', '102', 'Node'): 30720, ('Node', '103', 'Node'): 68, ('Node', '104', 'Node'): 50319, ('Node', '105', 'Node'): 66723, ('Node', '106', 'Node'): 450, ('Node', '107', 'Node'): 6431, ('Node', '108', 'Node'): 263259, ('Node', '109', 'Node'): 6692, ('Node', '11', 'Node'): 397063, ('Node', '110', 'Node'): 2358, ('Node', '111', 'Node'): 36377, ('Node', '112', 'Node'): 8545, ('Node', '113', 'Node'): 28899, ('Node', '114', 'Node'): 40373, ('Node', '115', 'Node'): 92768, ('Node', '116', 'Node'): 385886, ('Node', '117', 'Node'): 2866, ('Node', '118', 'Node'): 2806, ('Node', '119', 'Node'): 19, ('Node', '12', 'Node'): 9, ('Node', '120', 'Node'): 13007, ('Node', '121', 'Node'): 5109, ('Node', '122', 'Node'): 55202, ('Node', '123', 'Node'): 6668, ('Node', '124', 'Node'): 37822, ('Node', '125', 'Node'): 44, ('Node', '126', 'Node'): 1775, ('Node', '127', 'Node'): 10724, ('Node', '128', 'Node'): 62, ('Node', '129', 'Node'): 41027, ('Node', '13', 'Node'): 7324, ('Node', '130', 'Node'): 32046, ('Node', '131', 'Node'): 29350, ('Node', '132', 'Node'): 111, ('Node', '133', 'Node'): 17, ('Node', '134', 'Node'): 4392, ('Node', '135', 'Node'): 30, ('Node', '136', 'Node'): 31134, ('Node', '137', 'Node'): 19040, ('Node', '138', 'Node'): 280, ('Node', '139', 'Node'): 44492, ('Node', '14', 'Node'): 26855, ('Node', '140', 'Node'): 19, ('Node', '141', 'Node'): 4852, ('Node', '142', 'Node'): 16755, ('Node', '143', 'Node'): 78218, ('Node', '144', 'Node'): 156275, ('Node', '145', 'Node'): 5030, ('Node', '146', 'Node'): 2852, ('Node', '147', 'Node'): 261736, ('Node', '148', 'Node'): 458, ('Node', '149', 'Node'): 253358, ('Node', '15', 'Node'): 189739, ('Node', '150', 'Node'): 71123, ('Node', '151', 'Node'): 1885342, ('Node', '152', 'Node'): 8144, ('Node', '153', 'Node'): 12774, ('Node', '154', 'Node'): 758, ('Node', '155', 'Node'): 7041, ('Node', '156', 'Node'): 29, ('Node', '157', 'Node'): 18889, ('Node', '158', 'Node'): 163991, ('Node', '159', 'Node'): 307104, ('Node', '16', 'Node'): 4743, ('Node', '160', 'Node'): 26265, ('Node', '161', 'Node'): 43657, ('Node', '162', 'Node'): 19303, ('Node', '163', 'Node'): 172, ('Node', '164', 'Node'): 124750, ('Node', '165', 'Node'): 108, ('Node', '166', 'Node'): 41399, ('Node', '167', 'Node'): 53301, ('Node', '168', 'Node'): 5355, ('Node', '169', 'Node'): 13769, ('Node', '17', 'Node'): 65318, ('Node', '170', 'Node'): 51461, ('Node', '171', 'Node'): 420563, ('Node', '172', 'Node'): 24290, ('Node', '173', 'Node'): 8443, ('Node', '174', 'Node'): 9733, ('Node', '175', 'Node'): 1330, ('Node', '176', 'Node'): 532886, ('Node', '177', 'Node'): 97, ('Node', '178', 'Node'): 550091, ('Node', '179', 'Node'): 14161, ('Node', '18', 'Node'): 35, ('Node', '180', 'Node'): 270, ('Node', '181', 'Node'): 39722, ('Node', '182', 'Node'): 7732, ('Node', '183', 'Node'): 6116, ('Node', '184', 'Node'): 10227, ('Node', '185', 'Node'): 3077, ('Node', '186', 'Node'): 3691, ('Node', '187', 'Node'): 472, ('Node', '188', 'Node'): 16472, ('Node', '189', 'Node'): 1349, ('Node', '19', 'Node'): 20256, ('Node', '190', 'Node'): 2105, ('Node', '191', 'Node'): 1115, ('Node', '192', 'Node'): 7892, ('Node', '193', 'Node'): 1531, ('Node', '194', 'Node'): 240, ('Node', '195', 'Node'): 12193, ('Node', '196', 'Node'): 6008, ('Node', '197', 'Node'): 266307, ('Node', '198', 'Node'): 867761, ('Node', '199', 'Node'): 12, ('Node', '2', 'Node'): 46627, ('Node', '20', 'Node'): 1595066, ('Node', '200', 'Node'): 10937, ('Node', '201', 'Node'): 562, ('Node', '202', 'Node'): 25123, ('Node', '203', 'Node'): 9458, ('Node', '204', 'Node'): 90535, ('Node', '205', 'Node'): 21, ('Node', '206', 'Node'): 162, ('Node', '207', 'Node'): 9538, ('Node', '208', 'Node'): 625, ('Node', '209', 'Node'): 466854, ('Node', '21', 'Node'): 601, ('Node', '210', 'Node'): 1151, ('Node', '211', 'Node'): 5005, ('Node', '212', 'Node'): 22808, ('Node', '213', 'Node'): 28022, ('Node', '214', 'Node'): 6240, ('Node', '215', 'Node'): 10587, ('Node', '216', 'Node'): 101192, ('Node', '217', 'Node'): 15878, ('Node', '218', 'Node'): 110, ('Node', '219', 'Node'): 5666, ('Node', '22', 'Node'): 30565, ('Node', '220', 'Node'): 121540, ('Node', '221', 'Node'): 48150, ('Node', '222', 'Node'): 10058, ('Node', '223', 'Node'): 6184, ('Node', '224', 'Node'): 2563, ('Node', '225', 'Node'): 679, ('Node', '226', 'Node'): 352, ('Node', '227', 'Node'): 9383, ('Node', '228', 'Node'): 11405, ('Node', '229', 'Node'): 1285, ('Node', '23', 'Node'): 44856, ('Node', '230', 'Node'): 58281, ('Node', '231', 'Node'): 52, ('Node', '232', 'Node'): 241, ('Node', '233', 'Node'): 14, ('Node', '234', 'Node'): 522158, ('Node', '235', 'Node'): 23, ('Node', '236', 'Node'): 57108, ('Node', '237', 'Node'): 1164627, ('Node', '238', 'Node'): 557669, ('Node', '239', 'Node'): 7575, ('Node', '24', 'Node'): 2971, ('Node', '240', 'Node'): 5049, ('Node', '241', 'Node'): 972, ('Node', '242', 'Node'): 491936, ('Node', '243', 'Node'): 316546, ('Node', '244', 'Node'): 32515, ('Node', '245', 'Node'): 10850, ('Node', '246', 'Node'): 31, ('Node', '247', 'Node'): 773, ('Node', '25', 'Node'): 52688, ('Node', '26', 'Node'): 300, ('Node', '27', 'Node'): 62464, ('Node', '28', 'Node'): 36, ('Node', '29', 'Node'): 133232, ('Node', '3', 'Node'): 1948, ('Node', '30', 'Node'): 319, ('Node', '31', 'Node'): 140897, ('Node', '32', 'Node'): 12889, ('Node', '33', 'Node'): 1606134, ('Node', '34', 'Node'): 59376, ('Node', '35', 'Node'): 49833, ('Node', '36', 'Node'): 294335, ('Node', '37', 'Node'): 75002, ('Node', '38', 'Node'): 1422, ('Node', '39', 'Node'): 12851, ('Node', '4', 'Node'): 140787, ('Node', '40', 'Node'): 19451, ('Node', '41', 'Node'): 98, ('Node', '42', 'Node'): 5332, ('Node', '43', 'Node'): 2204, ('Node', '44', 'Node'): 13113, ('Node', '45', 'Node'): 2601, ('Node', '46', 'Node'): 7903, ('Node', '47', 'Node'): 427, ('Node', '48', 'Node'): 9218, ('Node', '49', 'Node'): 8094, ('Node', '5', 'Node'): 3102, ('Node', '50', 'Node'): 868, ('Node', '51', 'Node'): 4610, ('Node', '52', 'Node'): 1450, ('Node', '53', 'Node'): 5117, ('Node', '54', 'Node'): 34407, ('Node', '55', 'Node'): 14138, ('Node', '56', 'Node'): 17464, ('Node', '57', 'Node'): 10277, ('Node', '58', 'Node'): 892, ('Node', '59', 'Node'): 32933, ('Node', '6', 'Node'): 88, ('Node', '60', 'Node'): 886, ('Node', '61', 'Node'): 339, ('Node', '62', 'Node'): 78, ('Node', '63', 'Node'): 854, ('Node', '64', 'Node'): 289257, ('Node', '65', 'Node'): 1502621, ('Node', '66', 'Node'): 12256, ('Node', '67', 'Node'): 604, ('Node', '68', 'Node'): 2018, ('Node', '69', 'Node'): 1096837, ('Node', '7', 'Node'): 7064, ('Node', '70', 'Node'): 5733, ('Node', '71', 'Node'): 838554, ('Node', '72', 'Node'): 47674, ('Node', '73', 'Node'): 885, ('Node', '74', 'Node'): 2101539, ('Node', '75', 'Node'): 4178, ('Node', '76', 'Node'): 166, ('Node', '77', 'Node'): 5350, ('Node', '78', 'Node'): 529497, ('Node', '79', 'Node'): 185, ('Node', '8', 'Node'): 2006865, ('Node', '80', 'Node'): 1496, ('Node', '81', 'Node'): 31, ('Node', '82', 'Node'): 7941, ('Node', '83', 'Node'): 525, ('Node', '84', 'Node'): 18471, ('Node', '85', 'Node'): 306889, ('Node', '86', 'Node'): 11259, ('Node', '87', 'Node'): 3166, ('Node', '88', 'Node'): 254, ('Node', '89', 'Node'): 67, ('Node', '9', 'Node'): 1323, ('Node', '90', 'Node'): 135156, ('Node', '91', 'Node'): 349, ('Node', '92', 'Node'): 21947, ('Node', '93', 'Node'): 447127, ('Node', '94', 'Node'): 16, ('Node', '95', 'Node'): 5009, ('Node', '96', 'Node'): 52453, ('Node', '97', 'Node'): 12700, ('Node', '98', 'Node'): 411, ('Node', '99', 'Node'): 191518},\n",
      "      metagraph=[('Node', 'Node', '0'), ('Node', 'Node', '1'), ('Node', 'Node', '10'), ('Node', 'Node', '100'), ('Node', 'Node', '101'), ('Node', 'Node', '102'), ('Node', 'Node', '103'), ('Node', 'Node', '104'), ('Node', 'Node', '105'), ('Node', 'Node', '106'), ('Node', 'Node', '107'), ('Node', 'Node', '108'), ('Node', 'Node', '109'), ('Node', 'Node', '11'), ('Node', 'Node', '110'), ('Node', 'Node', '111'), ('Node', 'Node', '112'), ('Node', 'Node', '113'), ('Node', 'Node', '114'), ('Node', 'Node', '115'), ('Node', 'Node', '116'), ('Node', 'Node', '117'), ('Node', 'Node', '118'), ('Node', 'Node', '119'), ('Node', 'Node', '12'), ('Node', 'Node', '120'), ('Node', 'Node', '121'), ('Node', 'Node', '122'), ('Node', 'Node', '123'), ('Node', 'Node', '124'), ('Node', 'Node', '125'), ('Node', 'Node', '126'), ('Node', 'Node', '127'), ('Node', 'Node', '128'), ('Node', 'Node', '129'), ('Node', 'Node', '13'), ('Node', 'Node', '130'), ('Node', 'Node', '131'), ('Node', 'Node', '132'), ('Node', 'Node', '133'), ('Node', 'Node', '134'), ('Node', 'Node', '135'), ('Node', 'Node', '136'), ('Node', 'Node', '137'), ('Node', 'Node', '138'), ('Node', 'Node', '139'), ('Node', 'Node', '14'), ('Node', 'Node', '140'), ('Node', 'Node', '141'), ('Node', 'Node', '142'), ('Node', 'Node', '143'), ('Node', 'Node', '144'), ('Node', 'Node', '145'), ('Node', 'Node', '146'), ('Node', 'Node', '147'), ('Node', 'Node', '148'), ('Node', 'Node', '149'), ('Node', 'Node', '15'), ('Node', 'Node', '150'), ('Node', 'Node', '151'), ('Node', 'Node', '152'), ('Node', 'Node', '153'), ('Node', 'Node', '154'), ('Node', 'Node', '155'), ('Node', 'Node', '156'), ('Node', 'Node', '157'), ('Node', 'Node', '158'), ('Node', 'Node', '159'), ('Node', 'Node', '16'), ('Node', 'Node', '160'), ('Node', 'Node', '161'), ('Node', 'Node', '162'), ('Node', 'Node', '163'), ('Node', 'Node', '164'), ('Node', 'Node', '165'), ('Node', 'Node', '166'), ('Node', 'Node', '167'), ('Node', 'Node', '168'), ('Node', 'Node', '169'), ('Node', 'Node', '17'), ('Node', 'Node', '170'), ('Node', 'Node', '171'), ('Node', 'Node', '172'), ('Node', 'Node', '173'), ('Node', 'Node', '174'), ('Node', 'Node', '175'), ('Node', 'Node', '176'), ('Node', 'Node', '177'), ('Node', 'Node', '178'), ('Node', 'Node', '179'), ('Node', 'Node', '18'), ('Node', 'Node', '180'), ('Node', 'Node', '181'), ('Node', 'Node', '182'), ('Node', 'Node', '183'), ('Node', 'Node', '184'), ('Node', 'Node', '185'), ('Node', 'Node', '186'), ('Node', 'Node', '187'), ('Node', 'Node', '188'), ('Node', 'Node', '189'), ('Node', 'Node', '19'), ('Node', 'Node', '190'), ('Node', 'Node', '191'), ('Node', 'Node', '192'), ('Node', 'Node', '193'), ('Node', 'Node', '194'), ('Node', 'Node', '195'), ('Node', 'Node', '196'), ('Node', 'Node', '197'), ('Node', 'Node', '198'), ('Node', 'Node', '199'), ('Node', 'Node', '2'), ('Node', 'Node', '20'), ('Node', 'Node', '200'), ('Node', 'Node', '201'), ('Node', 'Node', '202'), ('Node', 'Node', '203'), ('Node', 'Node', '204'), ('Node', 'Node', '205'), ('Node', 'Node', '206'), ('Node', 'Node', '207'), ('Node', 'Node', '208'), ('Node', 'Node', '209'), ('Node', 'Node', '21'), ('Node', 'Node', '210'), ('Node', 'Node', '211'), ('Node', 'Node', '212'), ('Node', 'Node', '213'), ('Node', 'Node', '214'), ('Node', 'Node', '215'), ('Node', 'Node', '216'), ('Node', 'Node', '217'), ('Node', 'Node', '218'), ('Node', 'Node', '219'), ('Node', 'Node', '22'), ('Node', 'Node', '220'), ('Node', 'Node', '221'), ('Node', 'Node', '222'), ('Node', 'Node', '223'), ('Node', 'Node', '224'), ('Node', 'Node', '225'), ('Node', 'Node', '226'), ('Node', 'Node', '227'), ('Node', 'Node', '228'), ('Node', 'Node', '229'), ('Node', 'Node', '23'), ('Node', 'Node', '230'), ('Node', 'Node', '231'), ('Node', 'Node', '232'), ('Node', 'Node', '233'), ('Node', 'Node', '234'), ('Node', 'Node', '235'), ('Node', 'Node', '236'), ('Node', 'Node', '237'), ('Node', 'Node', '238'), ('Node', 'Node', '239'), ('Node', 'Node', '24'), ('Node', 'Node', '240'), ('Node', 'Node', '241'), ('Node', 'Node', '242'), ('Node', 'Node', '243'), ('Node', 'Node', '244'), ('Node', 'Node', '245'), ('Node', 'Node', '246'), ('Node', 'Node', '247'), ('Node', 'Node', '25'), ('Node', 'Node', '26'), ('Node', 'Node', '27'), ('Node', 'Node', '28'), ('Node', 'Node', '29'), ('Node', 'Node', '3'), ('Node', 'Node', '30'), ('Node', 'Node', '31'), ('Node', 'Node', '32'), ('Node', 'Node', '33'), ('Node', 'Node', '34'), ('Node', 'Node', '35'), ('Node', 'Node', '36'), ('Node', 'Node', '37'), ('Node', 'Node', '38'), ('Node', 'Node', '39'), ('Node', 'Node', '4'), ('Node', 'Node', '40'), ('Node', 'Node', '41'), ('Node', 'Node', '42'), ('Node', 'Node', '43'), ('Node', 'Node', '44'), ('Node', 'Node', '45'), ('Node', 'Node', '46'), ('Node', 'Node', '47'), ('Node', 'Node', '48'), ('Node', 'Node', '49'), ('Node', 'Node', '5'), ('Node', 'Node', '50'), ('Node', 'Node', '51'), ('Node', 'Node', '52'), ('Node', 'Node', '53'), ('Node', 'Node', '54'), ('Node', 'Node', '55'), ('Node', 'Node', '56'), ('Node', 'Node', '57'), ('Node', 'Node', '58'), ('Node', 'Node', '59'), ('Node', 'Node', '6'), ('Node', 'Node', '60'), ('Node', 'Node', '61'), ('Node', 'Node', '62'), ('Node', 'Node', '63'), ('Node', 'Node', '64'), ('Node', 'Node', '65'), ('Node', 'Node', '66'), ('Node', 'Node', '67'), ('Node', 'Node', '68'), ('Node', 'Node', '69'), ('Node', 'Node', '7'), ('Node', 'Node', '70'), ('Node', 'Node', '71'), ('Node', 'Node', '72'), ('Node', 'Node', '73'), ('Node', 'Node', '74'), ('Node', 'Node', '75'), ('Node', 'Node', '76'), ('Node', 'Node', '77'), ('Node', 'Node', '78'), ('Node', 'Node', '79'), ('Node', 'Node', '8'), ('Node', 'Node', '80'), ('Node', 'Node', '81'), ('Node', 'Node', '82'), ('Node', 'Node', '83'), ('Node', 'Node', '84'), ('Node', 'Node', '85'), ('Node', 'Node', '86'), ('Node', 'Node', '87'), ('Node', 'Node', '88'), ('Node', 'Node', '89'), ('Node', 'Node', '9'), ('Node', 'Node', '90'), ('Node', 'Node', '91'), ('Node', 'Node', '92'), ('Node', 'Node', '93'), ('Node', 'Node', '94'), ('Node', 'Node', '95'), ('Node', 'Node', '96'), ('Node', 'Node', '97'), ('Node', 'Node', '98'), ('Node', 'Node', '99')])]\n"
     ]
    }
   ],
   "source": [
    "print(dataset_A_glist)"
   ]
  },
  {
   "cell_type": "code",
   "execution_count": 12,
   "metadata": {},
   "outputs": [
    {
     "name": "stdout",
     "output_type": "stream",
     "text": [
      "{'181': tensor([195.,  12.,  86.]), '101': tensor([114.,   3.,  20.]), '100': tensor([104.,  12.,  86.]), '211': tensor([80., 15., 74.]), '110': tensor([ 70.,  14., 124.]), '155': tensor([235.,   1.,  67.]), '203': tensor([239.,   3.,  15.]), '103': tensor([48., 15., 89.]), '11': tensor([246.,  16.,  73.]), '129': tensor([81., 19., 65.]), '198': tensor([211.,  16.,  84.]), '222': tensor([ 8.,  0., 37.]), '246': tensor([150.,  14.,  97.]), '167': tensor([27.,  0., 33.]), '134': tensor([162.,  11.,  58.]), '214': tensor([143.,  15.,  74.]), '109': tensor([28., 15., 89.]), '193': tensor([189.,   3.,   1.]), '106': tensor([136.,  15.,  63.]), '107': tensor([191.,   8., 141.]), '132': tensor([110.,  16.,  35.]), '113': tensor([137.,   9.,  36.]), '144': tensor([220.,  12.,  86.]), '117': tensor([164.,  16.,  84.]), '16': tensor([108.,   5.,  14.]), '201': tensor([31., 15.,  5.]), '118': tensor([238.,  16., 106.]), '22': tensor([180.,  11.,  49.]), '137': tensor([20.,  0., 33.]), '245': tensor([126.,  19., 126.]), '224': tensor([113.,  14., 103.]), '196': tensor([77.,  3., 20.]), '139': tensor([177.,  19., 100.]), '76': tensor([ 46.,  18., 138.]), '186': tensor([18., 15., 74.]), '1': tensor([179.,  15.,  70.]), '121': tensor([91., 15., 89.]), '123': tensor([140.,  16.,  84.]), '209': tensor([ 24.,  11., 125.]), '122': tensor([182.,  17.,  94.]), '114': tensor([ 64.,  11., 115.]), '27': tensor([52., 15., 89.]), '220': tensor([116.,  13., 107.]), '28': tensor([186.,  11., 115.]), '124': tensor([167.,   9.,  34.]), '0': tensor([56., 16., 32.]), '81': tensor([ 57.,   5., 136.]), '104': tensor([157.,  16.,  73.]), '41': tensor([47.,  3.,  1.]), '116': tensor([218.,  15.,   8.]), '13': tensor([84.,  4., 11.]), '35': tensor([112.,  16.,  35.]), '130': tensor([185.,  10.,  30.]), '231': tensor([200.,  19., 126.]), '153': tensor([170.,  16.,  84.]), '119': tensor([203.,   6.,  12.]), '72': tensor([49.,  1., 54.]), '172': tensor([73., 14., 27.]), '138': tensor([184.,  12., 129.]), '33': tensor([17.,  1., 54.]), '127': tensor([228.,   4.,  59.]), '218': tensor([61.,  3.,  1.]), '82': tensor([88.,  8., 57.]), '149': tensor([60.,  3.,  1.]), '145': tensor([130.,  19., 108.]), '66': tensor([158.,  15.,  70.]), '136': tensor([ 0., 15., 89.]), '157': tensor([ 86.,  10., 119.]), '102': tensor([194.,   6.,  50.]), '140': tensor([93.,  7., 83.]), '219': tensor([242.,   1.,  85.]), '200': tensor([69., 15., 89.]), '192': tensor([244.,  16.,   2.]), '133': tensor([90., 19., 65.]), '141': tensor([ 7.,  1., 54.]), '169': tensor([125.,   8., 113.]), '178': tensor([10.,  0., 41.]), '233': tensor([231.,   3.,  60.]), '131': tensor([ 37.,  19., 100.]), '183': tensor([68., 16., 84.]), '210': tensor([ 4.,  3., 60.]), '154': tensor([12., 15., 70.]), '173': tensor([102.,  18.,  95.]), '12': tensor([153.,   5., 136.]), '151': tensor([234.,  18.,  66.]), '184': tensor([163.,   3.,  78.]), '235': tensor([243.,   3.,  20.]), '158': tensor([225.,   5., 136.]), '105': tensor([142.,  13.,  25.]), '44': tensor([50.,  1., 76.]), '85': tensor([71., 15., 63.]), '74': tensor([ 23.,  17., 101.]), '159': tensor([174.,   3.,  60.]), '45': tensor([152.,  12., 129.]), '187': tensor([178.,  19.,  82.]), '164': tensor([ 5., 19., 82.]), '227': tensor([214.,   0.,  80.]), '17': tensor([38., 14., 27.]), '221': tensor([117.,   1.,  67.]), '171': tensor([72.,  0., 80.]), '166': tensor([172.,   1.,  85.]), '208': tensor([13.,  5., 29.]), '71': tensor([133.,  12.,  19.]), '156': tensor([ 34.,   0., 111.]), '175': tensor([53.,  1., 61.]), '163': tensor([103.,  13.,  46.]), '15': tensor([36.,  1., 85.]), '88': tensor([171.,  11.,  49.]), '176': tensor([132.,  19., 126.]), '18': tensor([118.,   6.,  10.]), '152': tensor([41.,  3., 60.]), '179': tensor([206.,   3.,  60.]), '216': tensor([176.,  18., 138.]), '168': tensor([55.,  7., 24.]), '236': tensor([ 2., 10., 48.]), '185': tensor([ 82.,  19., 100.]), '180': tensor([138.,   5., 140.]), '189': tensor([199.,   1.,  85.]), '225': tensor([188.,   9.,  52.]), '188': tensor([202.,  11.,  49.]), '19': tensor([16.,  2.,  9.]), '46': tensor([210.,   3.,  15.]), '191': tensor([124.,  16.,  32.]), '146': tensor([120.,  11.,  17.]), '241': tensor([149.,   3.,  28.]), '59': tensor([39., 12., 86.]), '194': tensor([75.,  1., 40.]), '195': tensor([15., 15., 39.]), '24': tensor([205.,   6., 130.]), '2': tensor([173.,   0.,  96.]), '207': tensor([ 9., 19., 65.]), '177': tensor([215.,   1.,  54.]), '20': tensor([ 22.,  18., 138.]), '174': tensor([121.,  16.,  73.]), '162': tensor([216.,  13., 134.]), '204': tensor([240.,  16.,  73.]), '23': tensor([45., 19., 65.]), '206': tensor([96.,  5., 29.]), '212': tensor([134.,   8.,  31.]), '170': tensor([197.,   8., 105.]), '61': tensor([165.,  16.,  35.]), '217': tensor([224.,  15.,  89.]), '150': tensor([ 78.,   1., 109.]), '228': tensor([19.,  9., 51.]), '161': tensor([79., 17., 68.]), '229': tensor([ 99.,   0., 104.]), '37': tensor([222.,   3.,  23.]), '232': tensor([128.,   9., 112.]), '21': tensor([227.,  15.,  47.]), '242': tensor([221.,  17., 133.]), '238': tensor([144.,   2., 117.]), '234': tensor([109.,  13., 116.]), '215': tensor([ 26.,  10., 131.]), '111': tensor([29.,  5., 81.]), '243': tensor([ 6., 14., 44.]), '112': tensor([193.,   3.,  15.]), '39': tensor([ 11.,   5., 114.]), '25': tensor([168.,   2.,  22.]), '26': tensor([232.,   5.,  29.]), '148': tensor([106.,  19.,  90.]), '47': tensor([237.,  18., 138.]), '143': tensor([ 3., 11., 49.]), '3': tensor([ 85.,  17., 121.]), '199': tensor([145.,  10., 137.]), '226': tensor([89., 12., 16.]), '31': tensor([151.,   0.,  33.]), '98': tensor([  1.,   1., 109.]), '68': tensor([204.,  19., 126.]), '182': tensor([245.,  19.,  55.]), '10': tensor([65.,  6., 62.]), '32': tensor([247.,  10.,   3.]), '115': tensor([98., 19., 65.]), '90': tensor([ 87.,   9., 127.]), '58': tensor([111.,  19., 126.]), '70': tensor([187.,   3.,  23.]), '65': tensor([67., 19., 82.]), '34': tensor([159.,  18., 110.]), '36': tensor([ 63.,  18., 138.]), '42': tensor([230.,   3.,  23.]), '38': tensor([32., 11., 49.]), '125': tensor([241.,   3.,  15.]), '91': tensor([146.,   0.,  80.]), '30': tensor([94., 19., 53.]), '5': tensor([175.,   1.,   4.]), '43': tensor([42., 19., 75.]), '135': tensor([105.,   0.,  80.]), '50': tensor([ 54.,  19., 100.]), '9': tensor([229.,  19.,  79.]), '51': tensor([208.,  15.,  13.]), '54': tensor([62., 12., 43.]), '99': tensor([156.,   3.,  23.]), '79': tensor([97.,  3.,  1.]), '55': tensor([ 95.,  19., 100.]), '6': tensor([66.,  9., 69.]), '56': tensor([33., 15., 63.]), '197': tensor([76.,  0., 80.]), '80': tensor([160.,   3., 118.]), '57': tensor([59., 14., 27.]), '78': tensor([129.,   3.,  23.]), '60': tensor([115.,   5., 136.]), '48': tensor([212.,  15.,  63.]), '128': tensor([148.,  13.,  45.]), '165': tensor([201.,   9.,  71.]), '237': tensor([217.,  18., 138.]), '202': tensor([183.,   4., 123.]), '247': tensor([181.,  14., 103.]), '97': tensor([92., 10., 26.]), '142': tensor([198.,   4.,   7.]), '244': tensor([123.,  11.,  56.]), '67': tensor([127.,   5.,  29.]), '240': tensor([147.,   4.,  99.]), '40': tensor([154.,   2., 139.]), '62': tensor([219.,  15.,  74.]), '63': tensor([51.,  0., 42.]), '93': tensor([190.,  16.,  73.]), '14': tensor([161.,   2.,  64.]), '52': tensor([233.,  14., 103.]), '69': tensor([139.,   0.,  33.]), '108': tensor([74.,  6., 72.]), '4': tensor([35., 16., 18.]), '223': tensor([236.,  12., 142.]), '120': tensor([166.,   9.,  93.]), '239': tensor([44., 16.,  6.]), '73': tensor([131.,  15.,  70.]), '84': tensor([155.,  14.,  27.]), '83': tensor([101.,   5.,  91.]), '77': tensor([226.,   7.,  92.]), '147': tensor([14., 14., 21.]), '213': tensor([107.,   0.,  41.]), '29': tensor([ 25.,  12., 129.]), '86': tensor([58., 14., 77.]), '230': tensor([122.,  10., 135.]), '89': tensor([119.,  16.,  88.]), '160': tensor([ 30.,   6., 128.]), '64': tensor([209.,   9.,   0.]), '75': tensor([207.,  13., 102.]), '49': tensor([ 40.,  18., 122.]), '205': tensor([169.,   1., 109.]), '53': tensor([213.,  12.,  86.]), '94': tensor([135.,  18.,  38.]), '126': tensor([141.,  18., 132.]), '7': tensor([223.,   0., 120.]), '92': tensor([192.,   1.,  67.]), '190': tensor([100.,  15.,  74.]), '87': tensor([83., 16., 87.]), '95': tensor([196.,  17.,  98.]), '8': tensor([43., 15., 63.]), '96': tensor([21., 15., 70.])}\n"
     ]
    }
   ],
   "source": [
    "print(dataset_A_label_dict)"
   ]
  },
  {
   "cell_type": "code",
   "execution_count": 15,
   "metadata": {},
   "outputs": [],
   "source": [
    "dataset_A = dataset_A_glist[0]"
   ]
  },
  {
   "cell_type": "code",
   "execution_count": 24,
   "metadata": {},
   "outputs": [
    {
     "name": "stdout",
     "output_type": "stream",
     "text": [
      "['Node']\n"
     ]
    }
   ],
   "source": [
    "print(dataset_A.ntypes)"
   ]
  },
  {
   "cell_type": "markdown",
   "metadata": {},
   "source": [
    "Only 1 node type, \"Node\""
   ]
  },
  {
   "cell_type": "code",
   "execution_count": 23,
   "metadata": {},
   "outputs": [
    {
     "name": "stdout",
     "output_type": "stream",
     "text": [
      "[0, 1, 2, 3, 4, 5, 6, 7, 8, 9, 10, 11, 12, 13, 14, 15, 16, 17, 18, 19, 20, 21, 22, 23, 24, 25, 26, 27, 28, 29, 30, 31, 32, 33, 34, 35, 36, 37, 38, 39, 40, 41, 42, 43, 44, 45, 46, 47, 48, 49, 50, 51, 52, 53, 54, 55, 56, 57, 58, 59, 60, 61, 62, 63, 64, 65, 66, 67, 68, 69, 70, 71, 72, 73, 74, 75, 76, 77, 78, 79, 80, 81, 82, 83, 84, 85, 86, 87, 88, 89, 90, 91, 92, 93, 94, 95, 96, 97, 98, 99, 100, 101, 102, 103, 104, 105, 106, 107, 108, 109, 110, 111, 112, 113, 114, 115, 116, 117, 118, 119, 120, 121, 122, 123, 124, 125, 126, 127, 128, 129, 130, 131, 132, 133, 134, 135, 136, 137, 138, 139, 140, 141, 142, 143, 144, 145, 146, 147, 148, 149, 150, 151, 152, 153, 154, 155, 156, 157, 158, 159, 160, 161, 162, 163, 164, 165, 166, 167, 168, 169, 170, 171, 172, 173, 174, 175, 176, 177, 178, 179, 180, 181, 182, 183, 184, 185, 186, 187, 188, 189, 190, 191, 192, 193, 194, 195, 196, 197, 198, 199, 200, 201, 202, 203, 204, 205, 206, 207, 208, 209, 210, 211, 212, 213, 214, 215, 216, 217, 218, 219, 220, 221, 222, 223, 224, 225, 226, 227, 228, 229, 230, 231, 232, 233, 234, 235, 236, 237, 238, 239, 240, 241, 242, 243, 244, 245, 246, 247]\n"
     ]
    }
   ],
   "source": [
    "print(sorted(int(i) for i in dataset_A.etypes))"
   ]
  },
  {
   "cell_type": "markdown",
   "metadata": {},
   "source": [
    "248 different edge types."
   ]
  },
  {
   "cell_type": "code",
   "execution_count": 27,
   "metadata": {},
   "outputs": [
    {
     "name": "stdout",
     "output_type": "stream",
     "text": [
      "69984\n"
     ]
    }
   ],
   "source": [
    "print(dataset_A.num_nodes())"
   ]
  },
  {
   "cell_type": "markdown",
   "metadata": {},
   "source": [
    "69,984 nodes in graph."
   ]
  },
  {
   "cell_type": "code",
   "execution_count": 28,
   "metadata": {},
   "outputs": [
    {
     "name": "stdout",
     "output_type": "stream",
     "text": [
      "27045268\n"
     ]
    }
   ],
   "source": [
    "print(dataset_A.num_edges())"
   ]
  },
  {
   "cell_type": "markdown",
   "metadata": {},
   "source": [
    "27,045,268 edges in graph."
   ]
  },
  {
   "cell_type": "code",
   "execution_count": null,
   "metadata": {},
   "outputs": [],
   "source": []
  }
 ],
 "metadata": {
  "kernelspec": {
   "display_name": "tlp-env",
   "language": "python",
   "name": "python3"
  },
  "language_info": {
   "codemirror_mode": {
    "name": "ipython",
    "version": 3
   },
   "file_extension": ".py",
   "mimetype": "text/x-python",
   "name": "python",
   "nbconvert_exporter": "python",
   "pygments_lexer": "ipython3",
   "version": "3.7.9"
  }
 },
 "nbformat": 4,
 "nbformat_minor": 2
}
